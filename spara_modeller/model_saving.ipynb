{
 "cells": [
  {
   "cell_type": "markdown",
   "id": "f65c3903-5143-4011-87fd-08961484ee81",
   "metadata": {},
   "source": [
    "# Spara Modeller"
   ]
  },
  {
   "cell_type": "markdown",
   "id": "cd005097-9564-4f4c-a933-81c5a6263904",
   "metadata": {},
   "source": [
    "https://stackoverflow.com/questions/56107259/how-to-save-a-trained-model-by-scikit-learn"
   ]
  },
  {
   "cell_type": "code",
   "execution_count": 4,
   "id": "8190fef8-7231-4a14-9e34-b028b43bfd60",
   "metadata": {},
   "outputs": [],
   "source": [
    "from sklearn import svm\n",
    "from sklearn import datasets\n",
    "\n",
    "iris = datasets.load_iris()\n",
    "X, y = iris.data, iris.target"
   ]
  },
  {
   "cell_type": "code",
   "execution_count": null,
   "id": "595ca773-60ef-4142-ba14-9d2aeabbc987",
   "metadata": {},
   "outputs": [],
   "source": [
    "clf = svm.SVC()\n",
    "clf.fit(X, y)  "
   ]
  },
  {
   "cell_type": "code",
   "execution_count": null,
   "id": "89ce4fd6-017c-44ed-9930-c4db1869b29c",
   "metadata": {},
   "outputs": [],
   "source": [
    "# När vi har en modell kan vi använda den för att göra prediktioner\n",
    "clf.predict(X[0:1])"
   ]
  },
  {
   "cell_type": "code",
   "execution_count": null,
   "id": "54d40689-b071-4b43-aea1-246a225db98a",
   "metadata": {},
   "outputs": [],
   "source": [
    "import joblib\n",
    "\n",
    "# save\n",
    "joblib.dump(clf, \"my_model.pkl\") "
   ]
  },
  {
   "cell_type": "code",
   "execution_count": 2,
   "id": "7e86e415-2fcc-44c5-bd83-cb1d64b79a57",
   "metadata": {},
   "outputs": [],
   "source": [
    "# load\n",
    "import joblib\n",
    "clf2 = joblib.load(\"my_model.pkl\")"
   ]
  },
  {
   "cell_type": "code",
   "execution_count": 5,
   "id": "68eed6f0-041a-4b3e-849f-19d15d20a7a0",
   "metadata": {},
   "outputs": [
    {
     "data": {
      "text/plain": [
       "array([0])"
      ]
     },
     "execution_count": 5,
     "metadata": {},
     "output_type": "execute_result"
    }
   ],
   "source": [
    "clf2.predict(X[0:1])"
   ]
  },
  {
   "cell_type": "code",
   "execution_count": null,
   "id": "bdb56c96-e7a2-4fc1-b5ce-cfbdcc047b75",
   "metadata": {},
   "outputs": [],
   "source": []
  },
  {
   "cell_type": "markdown",
   "id": "f1113314-3c68-4011-995d-80893090f88f",
   "metadata": {},
   "source": [
    "# Flöde hur det kan se ut i ett företag"
   ]
  },
  {
   "cell_type": "markdown",
   "id": "5b80074f-077b-4d62-b54b-192f08e93b5a",
   "metadata": {},
   "source": [
    "1. Ett företag har en modell.\n",
    "2. Företaget kanske tränar modellen 1 gång i veckan/månaden/kvartal ...\n",
    "3. Modellen sparas.\n",
    "4. Modellen kan därefter laddas in och användas när som. "
   ]
  },
  {
   "cell_type": "code",
   "execution_count": null,
   "id": "f740118f-634f-4a48-bed6-e22ecbb2fb00",
   "metadata": {},
   "outputs": [],
   "source": []
  }
 ],
 "metadata": {
  "kernelspec": {
   "display_name": "Python 3 (ipykernel)",
   "language": "python",
   "name": "python3"
  },
  "language_info": {
   "codemirror_mode": {
    "name": "ipython",
    "version": 3
   },
   "file_extension": ".py",
   "mimetype": "text/x-python",
   "name": "python",
   "nbconvert_exporter": "python",
   "pygments_lexer": "ipython3",
   "version": "3.12.9"
  }
 },
 "nbformat": 4,
 "nbformat_minor": 5
}
