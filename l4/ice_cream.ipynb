{
 "cells": [
  {
   "cell_type": "markdown",
   "metadata": {},
   "source": [
    "# Övning: Ice cream selling data\n",
    "\n",
    "* Kör cellen nedan för att ladda in datan.\n",
    "* Dela upp datan i träning- och testset.\n",
    "* Gör en EDA.\n",
    "* Använd valfria *preprocessing*-steg och träna en valfri regressionsmodell på datan. Se hur låg RMSE du kan nå!"
   ]
  },
  {
   "cell_type": "code",
   "execution_count": 1,
   "metadata": {},
   "outputs": [],
   "source": [
    "import pandas as pd\n",
    "\n",
    "def load_icecream_sales():\n",
    "    df = pd.read_csv(\"ice_cream_selling_data.csv\")\n",
    "    X = df.iloc[:, 0].to_numpy().reshape(-1, 1)\n",
    "    y = df.iloc[:, 1]\n",
    "    return X, y\n",
    "\n",
    "X, y = load_icecream_sales()"
   ]
  },
  {
   "cell_type": "code",
   "execution_count": null,
   "metadata": {},
   "outputs": [],
   "source": []
  }
 ],
 "metadata": {
  "kernelspec": {
   "display_name": ".venv",
   "language": "python",
   "name": "python3"
  },
  "language_info": {
   "codemirror_mode": {
    "name": "ipython",
    "version": 3
   },
   "file_extension": ".py",
   "mimetype": "text/x-python",
   "name": "python",
   "nbconvert_exporter": "python",
   "pygments_lexer": "ipython3",
   "version": "3.13.0"
  }
 },
 "nbformat": 4,
 "nbformat_minor": 2
}
