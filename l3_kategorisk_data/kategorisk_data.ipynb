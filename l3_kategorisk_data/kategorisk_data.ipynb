{
 "cells": [
  {
   "cell_type": "code",
   "execution_count": 3,
   "id": "7be2ccac",
   "metadata": {},
   "outputs": [],
   "source": [
    "import numpy as np\n",
    "import pandas as pd\n",
    "import matplotlib.pyplot as plt\n",
    "import seaborn as sns; sns.set_theme(font_scale=.8, palette=sns.color_palette(\"Set2\", n_colors=2));\n",
    "\n",
    "from sklearn.preprocessing import OrdinalEncoder, OneHotEncoder\n",
    "from sklearn.linear_model import LinearRegression\n",
    "from sklearn.metrics import root_mean_squared_error, r2_score"
   ]
  },
  {
   "cell_type": "markdown",
   "id": "8d31a68f",
   "metadata": {},
   "source": [
    "# Kategorisk data\n",
    "Maskininlärningsmodeller kräver generellt att datan de tränas på är numerisk. Men vad gör vi då om vi har följande (enkla) dataset?"
   ]
  },
  {
   "cell_type": "code",
   "execution_count": 4,
   "id": "7a446dd4",
   "metadata": {},
   "outputs": [
    {
     "data": {
      "text/html": [
       "<div>\n",
       "<style scoped>\n",
       "    .dataframe tbody tr th:only-of-type {\n",
       "        vertical-align: middle;\n",
       "    }\n",
       "\n",
       "    .dataframe tbody tr th {\n",
       "        vertical-align: top;\n",
       "    }\n",
       "\n",
       "    .dataframe thead th {\n",
       "        text-align: right;\n",
       "    }\n",
       "</style>\n",
       "<table border=\"1\" class=\"dataframe\">\n",
       "  <thead>\n",
       "    <tr style=\"text-align: right;\">\n",
       "      <th></th>\n",
       "      <th>Customer_ID</th>\n",
       "      <th>Satisfaction_Level</th>\n",
       "    </tr>\n",
       "  </thead>\n",
       "  <tbody>\n",
       "    <tr>\n",
       "      <th>0</th>\n",
       "      <td>1</td>\n",
       "      <td>Low</td>\n",
       "    </tr>\n",
       "    <tr>\n",
       "      <th>1</th>\n",
       "      <td>2</td>\n",
       "      <td>Medium</td>\n",
       "    </tr>\n",
       "    <tr>\n",
       "      <th>2</th>\n",
       "      <td>3</td>\n",
       "      <td>High</td>\n",
       "    </tr>\n",
       "    <tr>\n",
       "      <th>3</th>\n",
       "      <td>4</td>\n",
       "      <td>Low</td>\n",
       "    </tr>\n",
       "    <tr>\n",
       "      <th>4</th>\n",
       "      <td>5</td>\n",
       "      <td>High</td>\n",
       "    </tr>\n",
       "    <tr>\n",
       "      <th>5</th>\n",
       "      <td>6</td>\n",
       "      <td>Medium</td>\n",
       "    </tr>\n",
       "    <tr>\n",
       "      <th>6</th>\n",
       "      <td>7</td>\n",
       "      <td>Medium</td>\n",
       "    </tr>\n",
       "    <tr>\n",
       "      <th>7</th>\n",
       "      <td>8</td>\n",
       "      <td>Low</td>\n",
       "    </tr>\n",
       "    <tr>\n",
       "      <th>8</th>\n",
       "      <td>9</td>\n",
       "      <td>High</td>\n",
       "    </tr>\n",
       "    <tr>\n",
       "      <th>9</th>\n",
       "      <td>10</td>\n",
       "      <td>Medium</td>\n",
       "    </tr>\n",
       "  </tbody>\n",
       "</table>\n",
       "</div>"
      ],
      "text/plain": [
       "   Customer_ID Satisfaction_Level\n",
       "0            1                Low\n",
       "1            2             Medium\n",
       "2            3               High\n",
       "3            4                Low\n",
       "4            5               High\n",
       "5            6             Medium\n",
       "6            7             Medium\n",
       "7            8                Low\n",
       "8            9               High\n",
       "9           10             Medium"
      ]
     },
     "execution_count": 4,
     "metadata": {},
     "output_type": "execute_result"
    }
   ],
   "source": [
    "customer_satisfaction = pd.DataFrame({\n",
    "    \"Customer_ID\": [1, 2, 3, 4, 5, 6, 7, 8, 9, 10],\n",
    "    \"Satisfaction_Level\": [\"Low\", \"Medium\", \"High\", \"Low\", \"High\", \"Medium\", \"Medium\", \"Low\", \"High\", \"Medium\"]\n",
    "})\n",
    "customer_satisfaction"
   ]
  },
  {
   "cell_type": "markdown",
   "id": "a56a4e66",
   "metadata": {},
   "source": [
    "`Satisfaction_Level`-kolumnen är kategorisk (och består av textsträngar). Den behöver konverteras till numeriska värden för att vår modell ska kunna förstå den.\n",
    "\n",
    "I det här exemplet har kategorierna en ordning - `Low` < `Medium` < `High`. Det här är ett exempel på *ordinaldata*.\n",
    "\n",
    "\n",
    "## Ordinaldata\n",
    "\n",
    "`sklearn` har en `OrdinalEncoder`-*transformer* som transformerar kategorisk ordinaldata till numeriska värden.\n",
    "\n",
    "Vi kan ange `categories`-argumentet för att definiera ordningen, från `Low` till `High`. Annars hade de ordnats i alfabetisk ordning."
   ]
  },
  {
   "cell_type": "code",
   "execution_count": 5,
   "id": "303e84a7",
   "metadata": {},
   "outputs": [
    {
     "data": {
      "text/plain": [
       "array([[0.],\n",
       "       [1.],\n",
       "       [2.],\n",
       "       [0.],\n",
       "       [2.],\n",
       "       [1.],\n",
       "       [1.],\n",
       "       [0.],\n",
       "       [2.],\n",
       "       [1.]])"
      ]
     },
     "execution_count": 5,
     "metadata": {},
     "output_type": "execute_result"
    }
   ],
   "source": [
    "ordinal_encoder = OrdinalEncoder(categories=[[\"Low\", \"Medium\", \"High\"]])\n",
    "ordinal_encoder.fit_transform(customer_satisfaction[[\"Satisfaction_Level\"]])"
   ]
  },
  {
   "cell_type": "markdown",
   "id": "770169c7",
   "metadata": {},
   "source": [
    "`OrdinalEncoder` transformerar kategorierna till numeriska värden. \n",
    "\n",
    "Vi kan komma åt kategorierna genom `categories_`-attributet."
   ]
  },
  {
   "cell_type": "code",
   "execution_count": 6,
   "id": "e0c2108a",
   "metadata": {},
   "outputs": [
    {
     "data": {
      "text/plain": [
       "[array(['Low', 'Medium', 'High'], dtype=object)]"
      ]
     },
     "execution_count": 6,
     "metadata": {},
     "output_type": "execute_result"
    }
   ],
   "source": [
    "ordinal_encoder.categories_"
   ]
  },
  {
   "cell_type": "markdown",
   "id": "606621bb",
   "metadata": {},
   "source": [
    "I praktiken lär sig `OrdinalEncoder`-transformern vilka kategorier som finns i datan. Vi kan använda `inverse_transform`-metoden för att få fram kategorierna igen från numeriska data."
   ]
  },
  {
   "cell_type": "code",
   "execution_count": 7,
   "id": "9235db81",
   "metadata": {},
   "outputs": [
    {
     "data": {
      "text/plain": [
       "array([['Medium'],\n",
       "       ['Low'],\n",
       "       ['High']], dtype=object)"
      ]
     },
     "execution_count": 7,
     "metadata": {},
     "output_type": "execute_result"
    }
   ],
   "source": [
    "ordinal_encoder.inverse_transform(np.array([[1], [0], [2]]))"
   ]
  },
  {
   "cell_type": "markdown",
   "id": "af64e9b8",
   "metadata": {},
   "source": [
    "Det är viktigt att förstå vad det här innebär ur maskininlärningssynpunkt. Eftersom våra numeriska värden ökar (från `0` till `2` i det här fallet) innebär det också att en modell kommer att ge observationer med höga värden i `Satisfaction_Level`-kolumnen mer tyngd. Det är precis vad vi önskar när vi har ordinaldata."
   ]
  },
  {
   "cell_type": "markdown",
   "id": "ff486d3e",
   "metadata": {},
   "source": [
    "## One-hot encoding\n",
    "\n",
    "I andra fall är det inte alls vad vi önskar. Vi kollar på ett annat enkelt dataset:"
   ]
  },
  {
   "cell_type": "code",
   "execution_count": 8,
   "id": "c1486815",
   "metadata": {},
   "outputs": [
    {
     "data": {
      "text/html": [
       "<div>\n",
       "<style scoped>\n",
       "    .dataframe tbody tr th:only-of-type {\n",
       "        vertical-align: middle;\n",
       "    }\n",
       "\n",
       "    .dataframe tbody tr th {\n",
       "        vertical-align: top;\n",
       "    }\n",
       "\n",
       "    .dataframe thead th {\n",
       "        text-align: right;\n",
       "    }\n",
       "</style>\n",
       "<table border=\"1\" class=\"dataframe\">\n",
       "  <thead>\n",
       "    <tr style=\"text-align: right;\">\n",
       "      <th></th>\n",
       "      <th>Car_Brand</th>\n",
       "    </tr>\n",
       "  </thead>\n",
       "  <tbody>\n",
       "    <tr>\n",
       "      <th>0</th>\n",
       "      <td>Toyota</td>\n",
       "    </tr>\n",
       "    <tr>\n",
       "      <th>1</th>\n",
       "      <td>Ford</td>\n",
       "    </tr>\n",
       "    <tr>\n",
       "      <th>2</th>\n",
       "      <td>Honda</td>\n",
       "    </tr>\n",
       "    <tr>\n",
       "      <th>3</th>\n",
       "      <td>BMW</td>\n",
       "    </tr>\n",
       "    <tr>\n",
       "      <th>4</th>\n",
       "      <td>Toyota</td>\n",
       "    </tr>\n",
       "    <tr>\n",
       "      <th>5</th>\n",
       "      <td>Ford</td>\n",
       "    </tr>\n",
       "    <tr>\n",
       "      <th>6</th>\n",
       "      <td>Honda</td>\n",
       "    </tr>\n",
       "    <tr>\n",
       "      <th>7</th>\n",
       "      <td>BMW</td>\n",
       "    </tr>\n",
       "  </tbody>\n",
       "</table>\n",
       "</div>"
      ],
      "text/plain": [
       "  Car_Brand\n",
       "0    Toyota\n",
       "1      Ford\n",
       "2     Honda\n",
       "3       BMW\n",
       "4    Toyota\n",
       "5      Ford\n",
       "6     Honda\n",
       "7       BMW"
      ]
     },
     "execution_count": 8,
     "metadata": {},
     "output_type": "execute_result"
    }
   ],
   "source": [
    "# One-Hot Encoding: Car Brands\n",
    "cars = pd.DataFrame({\n",
    "    \"Car_Brand\": [\"Toyota\", \"Ford\", \"Honda\", \"BMW\", \"Toyota\", \"Ford\", \"Honda\", \"BMW\"]\n",
    "})\n",
    "cars\n"
   ]
  },
  {
   "cell_type": "markdown",
   "id": "9cb8edae",
   "metadata": {},
   "source": [
    "Här finns det ingen ordning mellan kategorierna. Om vi använde en `OrdinalEncoder` skulle vissa bilmärken få större vikt i modellen än andra, vilket vi högst sannolikt inte vill.\n",
    "\n",
    "Här kan vi istället använda *one-hot encoding*. `sklearn` har en annan *transformer* som heter `OneHotEncoder`. Vi använder den på `cars`-datan.\n",
    "\n",
    "`sparse_output`parametern är satt till `False`. Det gör att vi får en vanlig numpy-*array* istället för en *sparse array*. ^[[Vad är en *sparse array*?](https://docs.scipy.org/doc/scipy/tutorial/sparse.html)]"
   ]
  },
  {
   "cell_type": "code",
   "execution_count": 9,
   "id": "e445a6ca",
   "metadata": {},
   "outputs": [
    {
     "data": {
      "text/plain": [
       "array([[0., 0., 0., 1.],\n",
       "       [0., 1., 0., 0.],\n",
       "       [0., 0., 1., 0.],\n",
       "       [1., 0., 0., 0.],\n",
       "       [0., 0., 0., 1.],\n",
       "       [0., 1., 0., 0.],\n",
       "       [0., 0., 1., 0.],\n",
       "       [1., 0., 0., 0.]])"
      ]
     },
     "execution_count": 9,
     "metadata": {},
     "output_type": "execute_result"
    }
   ],
   "source": [
    "onehot_encoder = OneHotEncoder(sparse_output=False)\n",
    "onehot_encoder.fit_transform(cars[[\"Car_Brand\"]])"
   ]
  },
  {
   "cell_type": "markdown",
   "id": "54c0baf4",
   "metadata": {},
   "source": [
    "Vad hände precis? För att lättare förstå *one-hot encoding*, kan vi använda funktionen `get_dummies()` från pandas. Den gör samma sak, men låter oss titta på resultatet på ett sätt som är lite enklare att förstå.\n",
    "\n",
    "För att göra jämförelsen ännu tydligare, visar vi de booleska värdena `False` och `True` som nollor och ettor istället genom att sätta `dtype`-parametern till `int`.\n",
    "\n",
    "Vi stoppar också tillbaka `Car_Brand`-kolumnen för att kunna ha koll på vilket bilmärke de olika raderna representerar. Det skulle vi alltså inte göra om vi vill träna en modell på datan."
   ]
  },
  {
   "cell_type": "code",
   "execution_count": 10,
   "id": "eee2774b",
   "metadata": {},
   "outputs": [
    {
     "data": {
      "text/html": [
       "<div>\n",
       "<style scoped>\n",
       "    .dataframe tbody tr th:only-of-type {\n",
       "        vertical-align: middle;\n",
       "    }\n",
       "\n",
       "    .dataframe tbody tr th {\n",
       "        vertical-align: top;\n",
       "    }\n",
       "\n",
       "    .dataframe thead th {\n",
       "        text-align: right;\n",
       "    }\n",
       "</style>\n",
       "<table border=\"1\" class=\"dataframe\">\n",
       "  <thead>\n",
       "    <tr style=\"text-align: right;\">\n",
       "      <th></th>\n",
       "      <th>Car_Brand_BMW</th>\n",
       "      <th>Car_Brand_Ford</th>\n",
       "      <th>Car_Brand_Honda</th>\n",
       "      <th>Car_Brand_Toyota</th>\n",
       "      <th>Car_Brand</th>\n",
       "    </tr>\n",
       "  </thead>\n",
       "  <tbody>\n",
       "    <tr>\n",
       "      <th>0</th>\n",
       "      <td>0</td>\n",
       "      <td>0</td>\n",
       "      <td>0</td>\n",
       "      <td>1</td>\n",
       "      <td>Toyota</td>\n",
       "    </tr>\n",
       "    <tr>\n",
       "      <th>1</th>\n",
       "      <td>0</td>\n",
       "      <td>1</td>\n",
       "      <td>0</td>\n",
       "      <td>0</td>\n",
       "      <td>Ford</td>\n",
       "    </tr>\n",
       "    <tr>\n",
       "      <th>2</th>\n",
       "      <td>0</td>\n",
       "      <td>0</td>\n",
       "      <td>1</td>\n",
       "      <td>0</td>\n",
       "      <td>Honda</td>\n",
       "    </tr>\n",
       "    <tr>\n",
       "      <th>3</th>\n",
       "      <td>1</td>\n",
       "      <td>0</td>\n",
       "      <td>0</td>\n",
       "      <td>0</td>\n",
       "      <td>BMW</td>\n",
       "    </tr>\n",
       "    <tr>\n",
       "      <th>4</th>\n",
       "      <td>0</td>\n",
       "      <td>0</td>\n",
       "      <td>0</td>\n",
       "      <td>1</td>\n",
       "      <td>Toyota</td>\n",
       "    </tr>\n",
       "    <tr>\n",
       "      <th>5</th>\n",
       "      <td>0</td>\n",
       "      <td>1</td>\n",
       "      <td>0</td>\n",
       "      <td>0</td>\n",
       "      <td>Ford</td>\n",
       "    </tr>\n",
       "    <tr>\n",
       "      <th>6</th>\n",
       "      <td>0</td>\n",
       "      <td>0</td>\n",
       "      <td>1</td>\n",
       "      <td>0</td>\n",
       "      <td>Honda</td>\n",
       "    </tr>\n",
       "    <tr>\n",
       "      <th>7</th>\n",
       "      <td>1</td>\n",
       "      <td>0</td>\n",
       "      <td>0</td>\n",
       "      <td>0</td>\n",
       "      <td>BMW</td>\n",
       "    </tr>\n",
       "  </tbody>\n",
       "</table>\n",
       "</div>"
      ],
      "text/plain": [
       "   Car_Brand_BMW  Car_Brand_Ford  Car_Brand_Honda  Car_Brand_Toyota Car_Brand\n",
       "0              0               0                0                 1    Toyota\n",
       "1              0               1                0                 0      Ford\n",
       "2              0               0                1                 0     Honda\n",
       "3              1               0                0                 0       BMW\n",
       "4              0               0                0                 1    Toyota\n",
       "5              0               1                0                 0      Ford\n",
       "6              0               0                1                 0     Honda\n",
       "7              1               0                0                 0       BMW"
      ]
     },
     "execution_count": 10,
     "metadata": {},
     "output_type": "execute_result"
    }
   ],
   "source": [
    "onehot_cars = pd.get_dummies(cars, columns=['Car_Brand'], dtype=int)\n",
    "onehot_cars[\"Car_Brand\"] = cars[\"Car_Brand\"]\n",
    "onehot_cars"
   ]
  },
  {
   "cell_type": "markdown",
   "id": "d766cb9b",
   "metadata": {},
   "source": [
    "*One-hot encoding* skapar en ny kolumn för varje kategori och fyller alla kolumner med nollor, utom kolumnen som representerar värdet i raden.\n",
    "\n",
    "I den första raden har vi en Toyota. Alla kolumner utom `Car_Brand_Toyota` fylls med nollor.\n",
    "\n",
    "Jämför outputen från cellen ovan med outputen från `OneHotEncoder`-cellen.\n",
    "\n",
    "`OneHotEncoder`-*transformern* sparar också kategorierna i `categories_`-attributet. Notera att de ligger i bokstavsordning."
   ]
  },
  {
   "cell_type": "code",
   "execution_count": 11,
   "id": "7e894d1c",
   "metadata": {},
   "outputs": [
    {
     "data": {
      "text/plain": [
       "[array(['BMW', 'Ford', 'Honda', 'Toyota'], dtype=object)]"
      ]
     },
     "execution_count": 11,
     "metadata": {},
     "output_type": "execute_result"
    }
   ],
   "source": [
    "onehot_encoder.categories_"
   ]
  },
  {
   "cell_type": "markdown",
   "id": "8f5a29eb",
   "metadata": {},
   "source": [
    "Till skillnad från en `OrdinalEncoder` får alltså alla kategorier samma vikt - inget värde är större än de andra."
   ]
  },
  {
   "cell_type": "markdown",
   "id": "a8efecef",
   "metadata": {},
   "source": [
    "## Dummy encoding"
   ]
  },
  {
   "cell_type": "markdown",
   "id": "984783b8",
   "metadata": {},
   "source": [
    "Om vi tänker efter lite kanske det slår oss att vi inte behöver alla kolumnerna i en *one-hot encoding*. Om vi tar bort en av kolumnerna kan vi fortfarande identifiera dess rader eftersom de är de enda som kommer att innehålla endast nollor.\n",
    "\n",
    "Vi testar! `get_dummies()` har en parameter som heter `drop_first`. Om vi sätter den till `True` kommer den första kolumnen (`Car_Brand_BMW` i vårt exempel) tas bort."
   ]
  },
  {
   "cell_type": "code",
   "execution_count": 12,
   "id": "8b7a823c",
   "metadata": {},
   "outputs": [
    {
     "data": {
      "text/html": [
       "<div>\n",
       "<style scoped>\n",
       "    .dataframe tbody tr th:only-of-type {\n",
       "        vertical-align: middle;\n",
       "    }\n",
       "\n",
       "    .dataframe tbody tr th {\n",
       "        vertical-align: top;\n",
       "    }\n",
       "\n",
       "    .dataframe thead th {\n",
       "        text-align: right;\n",
       "    }\n",
       "</style>\n",
       "<table border=\"1\" class=\"dataframe\">\n",
       "  <thead>\n",
       "    <tr style=\"text-align: right;\">\n",
       "      <th></th>\n",
       "      <th>Car_Brand_Ford</th>\n",
       "      <th>Car_Brand_Honda</th>\n",
       "      <th>Car_Brand_Toyota</th>\n",
       "      <th>Car_Brand</th>\n",
       "    </tr>\n",
       "  </thead>\n",
       "  <tbody>\n",
       "    <tr>\n",
       "      <th>0</th>\n",
       "      <td>0</td>\n",
       "      <td>0</td>\n",
       "      <td>1</td>\n",
       "      <td>Toyota</td>\n",
       "    </tr>\n",
       "    <tr>\n",
       "      <th>1</th>\n",
       "      <td>1</td>\n",
       "      <td>0</td>\n",
       "      <td>0</td>\n",
       "      <td>Ford</td>\n",
       "    </tr>\n",
       "    <tr>\n",
       "      <th>2</th>\n",
       "      <td>0</td>\n",
       "      <td>1</td>\n",
       "      <td>0</td>\n",
       "      <td>Honda</td>\n",
       "    </tr>\n",
       "    <tr>\n",
       "      <th>3</th>\n",
       "      <td>0</td>\n",
       "      <td>0</td>\n",
       "      <td>0</td>\n",
       "      <td>BMW</td>\n",
       "    </tr>\n",
       "    <tr>\n",
       "      <th>4</th>\n",
       "      <td>0</td>\n",
       "      <td>0</td>\n",
       "      <td>1</td>\n",
       "      <td>Toyota</td>\n",
       "    </tr>\n",
       "    <tr>\n",
       "      <th>5</th>\n",
       "      <td>1</td>\n",
       "      <td>0</td>\n",
       "      <td>0</td>\n",
       "      <td>Ford</td>\n",
       "    </tr>\n",
       "    <tr>\n",
       "      <th>6</th>\n",
       "      <td>0</td>\n",
       "      <td>1</td>\n",
       "      <td>0</td>\n",
       "      <td>Honda</td>\n",
       "    </tr>\n",
       "    <tr>\n",
       "      <th>7</th>\n",
       "      <td>0</td>\n",
       "      <td>0</td>\n",
       "      <td>0</td>\n",
       "      <td>BMW</td>\n",
       "    </tr>\n",
       "  </tbody>\n",
       "</table>\n",
       "</div>"
      ],
      "text/plain": [
       "   Car_Brand_Ford  Car_Brand_Honda  Car_Brand_Toyota Car_Brand\n",
       "0               0                0                 1    Toyota\n",
       "1               1                0                 0      Ford\n",
       "2               0                1                 0     Honda\n",
       "3               0                0                 0       BMW\n",
       "4               0                0                 1    Toyota\n",
       "5               1                0                 0      Ford\n",
       "6               0                1                 0     Honda\n",
       "7               0                0                 0       BMW"
      ]
     },
     "execution_count": 12,
     "metadata": {},
     "output_type": "execute_result"
    }
   ],
   "source": [
    "dummy_cars = pd.get_dummies(cars, columns=['Car_Brand'], drop_first=True, dtype=int)\n",
    "dummy_cars[\"Car_Brand\"] = cars[\"Car_Brand\"]\n",
    "dummy_cars"
   ]
  },
  {
   "cell_type": "markdown",
   "id": "341ce50e",
   "metadata": {},
   "source": [
    "BMW-raderna har nu bara nollor.\n",
    "\n",
    "`OneHotEncoder`-transformern har en `drop`-parameter. Om vi sätter den till `\"first\"` gör den samma sak som i exemplet ovan."
   ]
  },
  {
   "cell_type": "code",
   "execution_count": 13,
   "id": "da7c2f03",
   "metadata": {},
   "outputs": [
    {
     "data": {
      "text/plain": [
       "array([[0., 0., 1.],\n",
       "       [1., 0., 0.],\n",
       "       [0., 1., 0.],\n",
       "       [0., 0., 0.],\n",
       "       [0., 0., 1.],\n",
       "       [1., 0., 0.],\n",
       "       [0., 1., 0.],\n",
       "       [0., 0., 0.]])"
      ]
     },
     "execution_count": 13,
     "metadata": {},
     "output_type": "execute_result"
    }
   ],
   "source": [
    "dummy_encoder = OneHotEncoder(sparse_output=False, drop=\"first\")\n",
    "dummy_encoder.fit_transform(cars[[\"Car_Brand\"]])"
   ]
  },
  {
   "cell_type": "markdown",
   "id": "44b9781c",
   "metadata": {},
   "source": [
    "Kategorierna är, som vanligt, tillgängliga i `categories_`-attributet. Notera att BMW-kategorin finns kvar - det är bara kolumnen som tagits bort."
   ]
  },
  {
   "cell_type": "code",
   "execution_count": 14,
   "id": "781fe985",
   "metadata": {},
   "outputs": [
    {
     "data": {
      "text/plain": [
       "[array(['BMW', 'Ford', 'Honda', 'Toyota'], dtype=object)]"
      ]
     },
     "execution_count": 14,
     "metadata": {},
     "output_type": "execute_result"
    }
   ],
   "source": [
    "dummy_encoder.categories_"
   ]
  },
  {
   "cell_type": "markdown",
   "id": "2a6e2c65",
   "metadata": {},
   "source": [
    "Varför ska man göra *dummy encoding* istället? Vissa modeller, till exempel linjära regression-modeller, har av matematiska skäl svårt att hantera *one-hot*-kodade kategorier."
   ]
  },
  {
   "cell_type": "markdown",
   "id": "37a24b6e",
   "metadata": {},
   "source": [
    "Läs mer om one hot- och dummy encoding i [den här artikeln](https://builtin.com/articles/one-hot-encoding)."
   ]
  },
  {
   "cell_type": "markdown",
   "id": "ec7ece5a",
   "metadata": {},
   "source": [
    "### scikit-learn eller pandas?\n",
    "\n",
    "Så, vilken ska man använda, pandas eller scikit-learn? Svaret är som vanligt: det beror på.\n",
    "\n",
    "Om datan redan är en pandas `DataFrame` och man håller på och förbereder datan för EDA och analys finns det egentligen ingen större poäng att slänga in scikit-learn för att hantera kategoriska variabler.\n",
    "\n",
    "När det är dags att förbehandla datan för träning är det dock bättre att använda scikit-learn. En stor fördel med scikit-learns *encoders* är att de fungerar utmärkt som steg i en `Pipeline`, vilket är smidigt när man automatiserar en tränings- och evalueringsprocess."
   ]
  }
 ],
 "metadata": {
  "kernelspec": {
   "display_name": "Python 3 (ipykernel)",
   "language": "python",
   "name": "python3"
  },
  "language_info": {
   "codemirror_mode": {
    "name": "ipython",
    "version": 3
   },
   "file_extension": ".py",
   "mimetype": "text/x-python",
   "name": "python",
   "nbconvert_exporter": "python",
   "pygments_lexer": "ipython3",
   "version": "3.13.0"
  }
 },
 "nbformat": 4,
 "nbformat_minor": 5
}
